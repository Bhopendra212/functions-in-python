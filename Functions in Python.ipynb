{
 "cells": [
  {
   "cell_type": "code",
   "execution_count": 1,
   "id": "9cde66ee",
   "metadata": {},
   "outputs": [],
   "source": [
    "def my_function():\n",
    "    print('Hello from a function')"
   ]
  },
  {
   "cell_type": "code",
   "execution_count": 3,
   "id": "9bc196cc",
   "metadata": {},
   "outputs": [
    {
     "name": "stdout",
     "output_type": "stream",
     "text": [
      "Hello from a function\n",
      "None\n"
     ]
    }
   ],
   "source": [
    "print(my_function())"
   ]
  },
  {
   "cell_type": "code",
   "execution_count": 5,
   "id": "5760e3fd",
   "metadata": {},
   "outputs": [
    {
     "name": "stdout",
     "output_type": "stream",
     "text": [
      "Hello from a function\n"
     ]
    }
   ],
   "source": [
    "my_function()"
   ]
  },
  {
   "cell_type": "code",
   "execution_count": 11,
   "id": "45b2c3df",
   "metadata": {},
   "outputs": [
    {
     "name": "stdout",
     "output_type": "stream",
     "text": [
      "fnamechoudhary\n",
      "fnamechoudhary\n",
      "fnamechoudhary\n"
     ]
    }
   ],
   "source": [
    "#Arguments\n",
    "\n",
    "def my_function(fname):\n",
    "    print('fname'+'choudhary')\n",
    "    \n",
    "my_function('Abhi')\n",
    "my_function('Kabhi')\n",
    "my_function('Tabhi')"
   ]
  },
  {
   "cell_type": "code",
   "execution_count": 7,
   "id": "226fb031",
   "metadata": {},
   "outputs": [
    {
     "name": "stdout",
     "output_type": "stream",
     "text": [
      "fnamechoudhary\n"
     ]
    }
   ],
   "source": [
    "my_function('Abhi')"
   ]
  },
  {
   "cell_type": "code",
   "execution_count": 12,
   "id": "cb2bb6e6",
   "metadata": {},
   "outputs": [
    {
     "name": "stdout",
     "output_type": "stream",
     "text": [
      "Abhi Choudhary\n"
     ]
    }
   ],
   "source": [
    "# function expects 2 arguments and gets 2 arguments\n",
    "\n",
    "def my_function(fname,lname):\n",
    "    print(fname +\" \" + lname)\n",
    "    \n",
    "my_function(\"Abhi\",\"Choudhary\")    "
   ]
  },
  {
   "cell_type": "code",
   "execution_count": 13,
   "id": "438acc8e",
   "metadata": {},
   "outputs": [
    {
     "name": "stdout",
     "output_type": "stream",
     "text": [
      "The youngest child isTabhi\n"
     ]
    }
   ],
   "source": [
    "# Add * before the parameter for unknown number of parameters/arguments\n",
    "\n",
    "def my_function(*kids):\n",
    "    print(\"The youngest child is\" + kids[2])\n",
    "    \n",
    "my_function(\"Abhi\",\"Kabhi\",\"Tabhi\")    "
   ]
  },
  {
   "cell_type": "code",
   "execution_count": 15,
   "id": "5983f4a5",
   "metadata": {},
   "outputs": [
    {
     "name": "stdout",
     "output_type": "stream",
     "text": [
      "The youngest child is Kabhi\n"
     ]
    }
   ],
   "source": [
    "# keyword arguments\n",
    "\n",
    "def my_function(child1,child2,child3):\n",
    "    print(\"The youngest child is\", child2)\n",
    "    \n",
    "my_function(child1=\"Abhi\",child2=\"Kabhi\",child3=\"Tabhi\")    "
   ]
  },
  {
   "cell_type": "code",
   "execution_count": 20,
   "id": "7589b50f",
   "metadata": {},
   "outputs": [
    {
     "name": "stdout",
     "output_type": "stream",
     "text": [
      "I am from Norway\n"
     ]
    }
   ],
   "source": [
    "#Default parameter\n",
    "\n",
    "def my_function(country='Norway'):                 #deafult parameter/ argument\n",
    "    print(\"I am from\",country)\n",
    "    \n",
    "    \n",
    "# my_function(Sweden)\n",
    "# my_function(Bharat)\n",
    "my_function()\n",
    "# my_function(Brazil)"
   ]
  },
  {
   "cell_type": "code",
   "execution_count": 21,
   "id": "1412e9f2",
   "metadata": {},
   "outputs": [
    {
     "name": "stdout",
     "output_type": "stream",
     "text": [
      "apple\n",
      "banana\n",
      "cherry\n"
     ]
    }
   ],
   "source": [
    "#passing a list as an argument\n",
    "\n",
    "def my_function(food):\n",
    "    for x in food:\n",
    "        print(x)\n",
    "        \n",
    "fruits = [\"apple\",\"banana\",\"cherry\"]\n",
    "\n",
    "my_function(fruits)"
   ]
  },
  {
   "cell_type": "code",
   "execution_count": 23,
   "id": "f4ac4cd5",
   "metadata": {},
   "outputs": [
    {
     "name": "stdout",
     "output_type": "stream",
     "text": [
      "15\n",
      "25\n",
      "45\n"
     ]
    }
   ],
   "source": [
    "# Return values\n",
    "\n",
    "def my_function(x):\n",
    "    return 5*x\n",
    "print(my_function(3))\n",
    "print(my_function(5))\n",
    "print(my_function(9))"
   ]
  },
  {
   "cell_type": "code",
   "execution_count": 1,
   "id": "df7b91ea",
   "metadata": {},
   "outputs": [],
   "source": [
    "#pass statement\n",
    "\n",
    "def my_function():\n",
    "    pass"
   ]
  },
  {
   "cell_type": "code",
   "execution_count": 5,
   "id": "3af811bf",
   "metadata": {},
   "outputs": [
    {
     "name": "stdout",
     "output_type": "stream",
     "text": [
      "Hello Next\n"
     ]
    }
   ],
   "source": [
    "def naam_likh(name):\n",
    "    \n",
    "    \"naam likh kar dunga, jiska bolega uska\"\n",
    "    \n",
    "    print(\"Hello\", name)\n",
    "    \n",
    "naam_likh(\"Next\")"
   ]
  },
  {
   "cell_type": "code",
   "execution_count": 9,
   "id": "58c8872f",
   "metadata": {},
   "outputs": [
    {
     "name": "stdout",
     "output_type": "stream",
     "text": [
      "naam likh kar dunga, jiska bolega uska\n"
     ]
    }
   ],
   "source": [
    "print(naam_likh.__doc__)"
   ]
  },
  {
   "cell_type": "code",
   "execution_count": 16,
   "id": "509e8fb3",
   "metadata": {},
   "outputs": [],
   "source": [
    "def sum_do(lst):\n",
    "    \"tum mujhe list do main tumhe sum dunga\"\n",
    "    sum=0\n",
    "    for num in lst:\n",
    "        sum=sum+num\n",
    "    return sum"
   ]
  },
  {
   "cell_type": "code",
   "execution_count": 17,
   "id": "b8e11d06",
   "metadata": {},
   "outputs": [
    {
     "name": "stdout",
     "output_type": "stream",
     "text": [
      "15\n"
     ]
    }
   ],
   "source": [
    "s=sum_do([1,2,3,4,5])\n",
    "print(s)"
   ]
  },
  {
   "cell_type": "code",
   "execution_count": null,
   "id": "825f9b81",
   "metadata": {},
   "outputs": [],
   "source": []
  }
 ],
 "metadata": {
  "kernelspec": {
   "display_name": "Python 3 (ipykernel)",
   "language": "python",
   "name": "python3"
  },
  "language_info": {
   "codemirror_mode": {
    "name": "ipython",
    "version": 3
   },
   "file_extension": ".py",
   "mimetype": "text/x-python",
   "name": "python",
   "nbconvert_exporter": "python",
   "pygments_lexer": "ipython3",
   "version": "3.11.4"
  }
 },
 "nbformat": 4,
 "nbformat_minor": 5
}
